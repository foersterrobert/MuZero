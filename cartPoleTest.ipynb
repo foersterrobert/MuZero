{
 "cells": [
  {
   "cell_type": "code",
   "execution_count": 1,
   "metadata": {},
   "outputs": [
    {
     "name": "stdout",
     "output_type": "stream",
     "text": [
      "cuda\n"
     ]
    }
   ],
   "source": [
    "import gymnasium as gym\n",
    "import torch\n",
    "import torch.nn.functional as F\n",
    "import torch.nn as nn\n",
    "import numpy as np\n",
    "import random\n",
    "import math\n",
    "from tqdm.notebook import trange\n",
    "\n",
    "torch.manual_seed(0)\n",
    "random.seed(0)\n",
    "np.random.seed(0)\n",
    "\n",
    "device = torch.device(\"cuda\" if torch.cuda.is_available() else \"cpu\")\n",
    "print(device)\n",
    "\n",
    "# Reward missing in UCB | Plus instead of minus in UCB\n",
    "# Look at past obs and actions when generating hidden state\n",
    "# Prioritized Experience Replay\n",
    "# value min max stuff | Check if value in tanh interval"
   ]
  },
  {
   "cell_type": "code",
   "execution_count": 2,
   "metadata": {},
   "outputs": [],
   "source": [
    "class CartPole:\n",
    "    def __init__(self):\n",
    "        self.env = gym.make('CartPole-v1')\n",
    "        self.action_size = self.env.action_space.n\n",
    "\n",
    "    def __repr__(self):\n",
    "        return 'CartPole-v1'\n",
    "\n",
    "    def get_initial_state(self):\n",
    "        observation, info = self.env.reset()\n",
    "        valid_locations = self.get_valid_locations(observation)\n",
    "        reward = 0\n",
    "        is_terminal = False\n",
    "        return observation, valid_locations, reward, is_terminal\n",
    "\n",
    "    def step(self, action):\n",
    "        observation, reward, is_terminal, _, _ = self.env.step(action)\n",
    "        valid_locations = self.get_valid_locations(observation)\n",
    "        return observation, valid_locations, reward, is_terminal\n",
    "\n",
    "    def get_valid_locations(self, observation):\n",
    "        return self.action_size\n",
    "\n",
    "    def get_canonical_state(self, hidden_state, player):\n",
    "        return hidden_state\n",
    "\n",
    "    def get_encoded_observation(self, observation):\n",
    "        encoded_observation = observation.copy()\n",
    "        encoded_observation[0] = (encoded_observation[0] + 4.8) / 9.6\n",
    "        encoded_observation[2] = (encoded_observation[2] + 0.42) / 0.84\n",
    "        return encoded_observation\n",
    "\n",
    "    def get_opponent_player(self, player):\n",
    "        return player\n",
    "\n",
    "    def get_opponent_value(self, value):\n",
    "        return value\n"
   ]
  },
  {
   "cell_type": "code",
   "execution_count": 3,
   "metadata": {},
   "outputs": [],
   "source": [
    "class ReplayBuffer:\n",
    "    def __init__(self, args, game):\n",
    "        self.memory = []\n",
    "        self.trajectories = []\n",
    "        self.args = args\n",
    "        self.game = game\n",
    "\n",
    "    def __len__(self):\n",
    "        return len(self.memory)\n",
    "\n",
    "    def empty(self):\n",
    "        self.memory = []\n",
    "\n",
    "    def build_trajectories(self):\n",
    "        self.trajectories = []\n",
    "        for i in range(len(self.memory)):\n",
    "            observation, action, policy, reward, game_idx, is_terminal = self.memory[i]\n",
    "            if is_terminal:\n",
    "                action = np.random.choice(self.game.action_size)\n",
    "\n",
    "            policy_list, action_list, value_list, reward_list = [policy], [action], [], [reward]\n",
    "\n",
    "            current_value = []\n",
    "            for n in range(1, self.args['N'] + 1):\n",
    "                if i + n < len(self.memory) and self.memory[i + n][4] == game_idx:\n",
    "                    _, _, _, reward, _, _ = self.memory[i + n]\n",
    "                    current_value.append(reward)\n",
    "                else:\n",
    "                    current_value.append(0)\n",
    "            value = np.sum([self.args['gamma'] ** n * current_value[n - 1] for n in range(1, self.args['N'] + 1)])\n",
    "            value = (value - np.sum(\n",
    "                        [self.args['gamma'] ** n * 1 for n in range(1, self.args['N'] + 1)]\n",
    "                    ) * 0.5) / (np.sum(\n",
    "                        [self.args['gamma'] ** n * 1 for n in range(1, self.args['N'] + 1)]\n",
    "                    ))\n",
    "            value_list.append(value)\n",
    "\n",
    "            for k in range(1, self.args['K'] + 1):\n",
    "                if i + k < len(self.memory) and self.memory[i + k][4] == game_idx:\n",
    "                    _, action, policy, reward, _, is_terminal = self.memory[i + k]\n",
    "                    if is_terminal:\n",
    "                        action = np.random.choice(self.game.action_size)\n",
    "                    action_list.append(action)\n",
    "                    policy_list.append(policy)\n",
    "                    reward_list.append(reward)\n",
    "\n",
    "                    current_value = []\n",
    "                    for n in range(1, self.args['N'] + 1):\n",
    "                        if i + k + n < len(self.memory) and self.memory[i + k + n][4] == game_idx:\n",
    "                            _, _, _, reward, _, _ = self.memory[i + k + n]\n",
    "                            current_value.append(reward)\n",
    "                        else:\n",
    "                            current_value.append(0)\n",
    "                    value = np.sum([self.args['gamma'] ** n * current_value[n - 1] for n in range(1, self.args['N'] + 1)])\n",
    "                    value = (value - np.sum(\n",
    "                        [self.args['gamma'] ** n * 1 for n in range(1, self.args['N'] + 1)]\n",
    "                    ) * 0.5) / (np.sum(\n",
    "                        [self.args['gamma'] ** n * 1 for n in range(1, self.args['N'] + 1)]\n",
    "                    ))\n",
    "\n",
    "                    value_list.append(value)\n",
    "\n",
    "                else:\n",
    "                    action_list.append(np.random.choice(self.game.action_size))\n",
    "                    policy_list.append(policy_list[-1])\n",
    "                    value_list.append(0)\n",
    "                    reward_list.append(0)\n",
    "\n",
    "            policy_list = np.stack(policy_list)\n",
    "            self.trajectories.append((observation, action_list, policy_list, value_list, reward_list))\n"
   ]
  },
  {
   "cell_type": "code",
   "execution_count": 4,
   "metadata": {},
   "outputs": [],
   "source": [
    "class Node:\n",
    "    def __init__(self, state, reward, prior, muZero, args, game, parent=None, action_taken=None):\n",
    "        self.state = state\n",
    "        self.reward = reward\n",
    "        self.children = []\n",
    "        self.parent = parent\n",
    "        self.total_value = 0\n",
    "        self.visit_count = 0\n",
    "        self.prior = prior\n",
    "        self.muZero = muZero\n",
    "        self.action_taken = action_taken\n",
    "        self.args = args\n",
    "        self.game = game\n",
    "\n",
    "    @torch.no_grad()\n",
    "    def expand(self, action_probs):\n",
    "        actions = [a for a in range(self.game.action_size) if action_probs[a] > 0]\n",
    "        expand_state = self.state.copy()\n",
    "        expand_state = np.expand_dims(expand_state, axis=0).repeat(len(actions), axis=0)\n",
    "\n",
    "        expand_state, reward = self.muZero.dynamics(\n",
    "            torch.tensor(expand_state, dtype=torch.float32, device=self.muZero.device), actions)\n",
    "        expand_state = expand_state.detach().cpu().numpy()\n",
    "        expand_state = self.game.get_canonical_state(expand_state, -1).copy()\n",
    "        \n",
    "        for i, a in enumerate(actions):\n",
    "            child = Node(\n",
    "                expand_state[i],\n",
    "                reward[i],\n",
    "                action_probs[a],\n",
    "                self.muZero,\n",
    "                self.args,\n",
    "                self.game,\n",
    "                parent=self,\n",
    "                action_taken=a,\n",
    "            )\n",
    "            self.children.append(child)\n",
    "\n",
    "    def backpropagate(self, value):\n",
    "        self.total_value += value\n",
    "        self.visit_count += 1\n",
    "        if self.parent is not None:\n",
    "            self.parent.backpropagate(self.game.get_opponent_value(value))\n",
    "\n",
    "    def is_expandable(self):\n",
    "        return len(self.children) > 0\n",
    "\n",
    "    def select_child(self):\n",
    "        best_score = -np.inf\n",
    "        best_child = None\n",
    "\n",
    "        for child in self.children:\n",
    "            ucb_score = self.get_ucb_score(child)\n",
    "            if ucb_score > best_score:\n",
    "                best_score = ucb_score\n",
    "                best_child = child\n",
    "\n",
    "        return best_child\n",
    "\n",
    "    def get_ucb_score(self, child):\n",
    "        # prior_score = child.prior * math.sqrt(self.visit_count) / (1 + child.visit_count) * (self.args['c1'] + math.log((self.visit_count + self.args['c2'] + 1) / self.args['c2']))\n",
    "        prior_score = self.args['c'] * child.prior * math.sqrt(self.visit_count) / (1 + child.visit_count)\n",
    "        if child.visit_count == 0:\n",
    "            return prior_score\n",
    "        return prior_score + (child.total_value / child.visit_count)\n",
    "\n",
    "class MCTS:\n",
    "    def __init__(self, muZero, game, args):\n",
    "        self.muZero = muZero\n",
    "        self.game = game\n",
    "        self.args = args\n",
    "\n",
    "    @torch.no_grad()\n",
    "    def search(self, state, reward, available_actions):\n",
    "        hidden_state = self.muZero.represent(\n",
    "            torch.tensor(state, dtype=torch.float32, device=self.muZero.device).unsqueeze(0)\n",
    "        )\n",
    "        action_probs, value = self.muZero.predict(hidden_state)\n",
    "        hidden_state = hidden_state.cpu().numpy().squeeze(0)\n",
    "        \n",
    "        root = Node(hidden_state, reward, 0, self.muZero, self.args, self.game)\n",
    "\n",
    "        action_probs = torch.softmax(action_probs, dim=1).cpu().numpy().squeeze(0)\n",
    "        action_probs = (1 - self.args['dirichlet_epsilon']) * action_probs + self.args['dirichlet_epsilon'] * np.random.dirichlet([self.args['dirichlet_alpha']] * self.game.action_size)\n",
    "        action_probs *= available_actions\n",
    "        action_probs /= np.sum(action_probs)\n",
    "\n",
    "        root.expand(action_probs)\n",
    "\n",
    "        for simulation in range(self.args['num_mcts_runs']):\n",
    "            node = root\n",
    "\n",
    "            while node.is_expandable():\n",
    "                node = node.select_child()\n",
    "\n",
    "            action_probs, value = self.muZero.predict(\n",
    "                torch.tensor(node.state, dtype=torch.float32, device=self.muZero.device).unsqueeze(0)\n",
    "            )\n",
    "            action_probs = torch.softmax(action_probs, dim=1).cpu().numpy().squeeze(0)\n",
    "            value = value.item()\n",
    "\n",
    "            node.expand(action_probs)\n",
    "            node.backpropagate(value)\n",
    "\n",
    "        return root\n"
   ]
  },
  {
   "cell_type": "code",
   "execution_count": 5,
   "metadata": {},
   "outputs": [],
   "source": [
    "class MuZero(nn.Module):\n",
    "    def __init__(self, game):\n",
    "        super().__init__()\n",
    "        self.game = game\n",
    "        self.device = torch.device(\"cuda\" if torch.cuda.is_available() else \"cpu\")\n",
    "        \n",
    "        self.predictionFunction = PredictionFunction(self.game)\n",
    "        self.dynamicsFunction = DynamicsFunction()\n",
    "        self.representationFunction = RepresentationFunction()\n",
    "\n",
    "    def predict(self, hidden_state):\n",
    "        return self.predictionFunction(hidden_state)\n",
    "\n",
    "    def represent(self, observation):\n",
    "        return self.representationFunction(observation)\n",
    "\n",
    "    def dynamics(self, hidden_state, action):\n",
    "        actionArr = torch.zeros((hidden_state.shape[0], 2), device=self.device, dtype=torch.float32)\n",
    "        for i, a in enumerate(action):\n",
    "            actionArr[i, a] = 1\n",
    "        x = torch.hstack((hidden_state, actionArr))\n",
    "        return self.dynamicsFunction(x)\n",
    "\n",
    "# Creates hidden state + reward based on old hidden state and action \n",
    "class DynamicsFunction(nn.Module):\n",
    "    def __init__(self):\n",
    "        super().__init__()\n",
    "        \n",
    "        self.startBlock = nn.Sequential(\n",
    "            nn.Linear(258, 256),\n",
    "            nn.ReLU(),\n",
    "            nn.Linear(256, 256),\n",
    "            nn.ReLU(),\n",
    "            nn.Linear(256, 256),\n",
    "            nn.ReLU(),\n",
    "        )\n",
    "\n",
    "        self.rewardBlock = nn.Sequential(\n",
    "            nn.Linear(256, 128),\n",
    "            nn.ReLU(),\n",
    "            nn.Linear(128, 1),\n",
    "            nn.Sigmoid()\n",
    "        )\n",
    "\n",
    "    def forward(self, x):\n",
    "        x = self.startBlock(x)\n",
    "        reward = self.rewardBlock(x)\n",
    "        return x, reward\n",
    "    \n",
    "# Creates policy and value based on hidden state\n",
    "class PredictionFunction(nn.Module):\n",
    "    def __init__(self, game):\n",
    "        super().__init__()\n",
    "        self.game = game\n",
    "        \n",
    "        self.startBlock = nn.Sequential(\n",
    "            nn.Linear(256, 256),\n",
    "            nn.ReLU(),\n",
    "            nn.Linear(256, 256),\n",
    "            nn.ReLU(),\n",
    "        )\n",
    "\n",
    "        self.policy_head = nn.Sequential(\n",
    "            nn.Linear(256, 128),\n",
    "            nn.ReLU(),\n",
    "            nn.Linear(128, 32),\n",
    "            nn.ReLU(),\n",
    "            nn.Linear(32, self.game.action_size)\n",
    "        )\n",
    "        self.value_head = nn.Sequential(\n",
    "            nn.Linear(256, 64),\n",
    "            nn.ReLU(),\n",
    "            nn.Linear(64, 1),\n",
    "            nn.Tanh()\n",
    "        )\n",
    "\n",
    "    def forward(self, x):\n",
    "        x = self.startBlock(x)\n",
    "        p = self.policy_head(x)\n",
    "        v = self.value_head(x)\n",
    "        return p, v\n",
    "\n",
    "# Creates initial hidden state based on observation | several observations\n",
    "class RepresentationFunction(nn.Module):\n",
    "    def __init__(self):\n",
    "        super().__init__()\n",
    "        self.startBlock = nn.Sequential(\n",
    "            nn.Linear(4, 128),\n",
    "            nn.Linear(128, 256),\n",
    "            nn.ReLU(),\n",
    "            nn.Linear(256, 256),\n",
    "            nn.ReLU(),\n",
    "        )\n",
    "\n",
    "    def forward(self, x):\n",
    "        x = self.startBlock(x)\n",
    "        return x\n"
   ]
  },
  {
   "cell_type": "code",
   "execution_count": 6,
   "metadata": {},
   "outputs": [],
   "source": [
    "class Trainer:\n",
    "    def __init__(self, muZero, optimizer, game, args):\n",
    "        self.muZero = muZero\n",
    "        self.optimizer = optimizer\n",
    "        self.game = game\n",
    "        self.args = args\n",
    "        self.mcts = MCTS(self.muZero, self.game, self.args)\n",
    "        self.replayBuffer = ReplayBuffer(self.args, self.game)\n",
    "        self.device = torch.device(\"cuda\" if torch.cuda.is_available() else \"cpu\")\n",
    "\n",
    "    def self_play(self, game_idx):\n",
    "        game_memory = []\n",
    "        player = 1\n",
    "        observation, valid_locations, reward, is_terminal = self.game.get_initial_state()\n",
    "\n",
    "        while True:\n",
    "            encoded_observation = self.game.get_encoded_observation(observation)\n",
    "            canonical_observation = self.game.get_canonical_state(encoded_observation, player).copy()\n",
    "            root = self.mcts.search(canonical_observation, reward, valid_locations)\n",
    "\n",
    "            action_probs = [0] * self.game.action_size\n",
    "            for child in root.children:\n",
    "                action_probs[child.action_taken] = child.visit_count\n",
    "            action_probs /= np.sum(action_probs)\n",
    "\n",
    "            # sample action from the mcts policy | based on temperature\n",
    "            if self.args['temperature'] == 0:\n",
    "                action = np.argmax(action_probs)\n",
    "            elif self.args['temperature'] == float('inf'):\n",
    "                action = np.random.choice([r for r in range(self.game.action_size) if action_probs[r] > 0])\n",
    "            else:\n",
    "                temperature_action_probs = action_probs ** (1 / self.args['temperature'])\n",
    "                temperature_action_probs /= np.sum(temperature_action_probs)\n",
    "                action = np.random.choice(len(temperature_action_probs), p=temperature_action_probs)\n",
    "\n",
    "            game_memory.append((canonical_observation, action, player, action_probs, reward, is_terminal))\n",
    "\n",
    "            observation, valid_locations, reward, is_terminal = self.game.step(action)\n",
    "\n",
    "            if is_terminal:\n",
    "                return_memory = []\n",
    "                for hist_state, hist_action, hist_player, hist_action_probs, hist_reward, hist_terminal in game_memory:\n",
    "                    return_memory.append((\n",
    "                        hist_state,\n",
    "                        hist_action, \n",
    "                        hist_action_probs,\n",
    "                        hist_reward,\n",
    "                        game_idx,\n",
    "                        hist_terminal\n",
    "                    ))\n",
    "                if not self.args['K'] > 0:\n",
    "                    return_memory.append((\n",
    "                        self.game.get_canonical_state(self.game.get_encoded_observation(observation), self.game.get_opponent_player(player)).copy(),\n",
    "                        None,\n",
    "                        np.zeros(self.game.action_size, dtype=np.float32),\n",
    "                        0,\n",
    "                        game_idx,\n",
    "                        is_terminal\n",
    "                    ))\n",
    "                return return_memory\n",
    "\n",
    "            player = self.game.get_opponent_player(player)\n",
    "\n",
    "    def train(self):\n",
    "        random.shuffle(self.replayBuffer.trajectories)\n",
    "        for batchIdx in range(0, len(self.replayBuffer) - 1, self.args['batch_size']): \n",
    "            policy_loss = 0\n",
    "            value_loss = 0\n",
    "            reward_loss = 0\n",
    "\n",
    "            observation, action, policy, value, reward = list(zip(*self.replayBuffer.trajectories[batchIdx:min(len(self.replayBuffer) -1, batchIdx + self.args['batch_size'])]))\n",
    "            observation = np.stack(observation)\n",
    "\n",
    "            state = torch.tensor(observation, dtype=torch.float32, device=self.device)\n",
    "            action = np.array(action).swapaxes(0, 1)\n",
    "            policy = torch.tensor(np.stack(policy).swapaxes(0, 1), dtype=torch.float32, device=self.device)\n",
    "            value = torch.tensor(np.expand_dims(np.array(value).swapaxes(0, 1), -1), dtype=torch.float32, device=self.device)\n",
    "            reward = torch.tensor(np.expand_dims(np.array(reward).swapaxes(0, 1), -1), dtype=torch.float32, device=self.device)\n",
    "\n",
    "            state = self.muZero.represent(state)\n",
    "            out_policy, out_value = self.muZero.predict(state)\n",
    "\n",
    "            policy_loss += F.cross_entropy(out_policy, policy[0]) \n",
    "            value_loss += F.mse_loss(out_value, value[0])\n",
    "\n",
    "            if self.args['K'] > 0:\n",
    "                for k in range(1, self.args['K'] + 1):\n",
    "                    state, out_reward = self.muZero.dynamics(state, action[k - 1])\n",
    "                    observation = state.detach().cpu().numpy()\n",
    "                    \n",
    "                    reward_loss += F.mse_loss(out_reward, reward[k])\n",
    "\n",
    "                    observation = self.game.get_canonical_state(observation, -1).copy()\n",
    "                    state = torch.tensor(observation, dtype=torch.float32, device=self.device)\n",
    "\n",
    "                    out_policy, out_value = self.muZero.predict(state)\n",
    "\n",
    "                    policy_loss += F.cross_entropy(out_policy, policy[k])\n",
    "                    value_loss += F.mse_loss(out_value, value[k])\n",
    "\n",
    "            loss = value_loss * self.args['value_loss_weight'] + policy_loss + reward_loss\n",
    "            loss /= self.args['K'] + 1\n",
    "\n",
    "            self.optimizer.zero_grad()\n",
    "            loss.backward()\n",
    "            self.optimizer.step()\n",
    "\n",
    "    def run(self):\n",
    "        for iteration in range(self.args['num_iterations']):\n",
    "            print(f\"iteration: {iteration}\")\n",
    "            self.replayBuffer.empty()\n",
    "\n",
    "            self.muZero.eval()\n",
    "            for train_game_idx in trange(self.args['num_train_games'], desc=\"train_game\"):\n",
    "                self.replayBuffer.memory += self.self_play(train_game_idx + iteration * self.args['num_train_games'])\n",
    "            self.replayBuffer.build_trajectories()\n",
    "\n",
    "            self.muZero.train()\n",
    "            for epoch in trange(self.args['num_epochs'], desc=\"epochs\"):\n",
    "                self.train()\n",
    "\n",
    "            torch.save(self.muZero.state_dict(), f\"Models/{self.game}/model_{iteration}.pt\")\n",
    "            torch.save(self.optimizer.state_dict(), f\"Models/{self.game}/optimizer_{iteration}.pt\")\n"
   ]
  },
  {
   "cell_type": "code",
   "execution_count": 7,
   "metadata": {},
   "outputs": [
    {
     "name": "stdout",
     "output_type": "stream",
     "text": [
      "iteration: 0\n"
     ]
    },
    {
     "data": {
      "application/vnd.jupyter.widget-view+json": {
       "model_id": "a24995817ba84b64a6f5c13c66a9ca93",
       "version_major": 2,
       "version_minor": 0
      },
      "text/plain": [
       "train_game:   0%|          | 0/100 [00:00<?, ?it/s]"
      ]
     },
     "metadata": {},
     "output_type": "display_data"
    },
    {
     "data": {
      "application/vnd.jupyter.widget-view+json": {
       "model_id": "d6c348af57da41ebb0e2748fe3e1b95e",
       "version_major": 2,
       "version_minor": 0
      },
      "text/plain": [
       "epochs:   0%|          | 0/4 [00:00<?, ?it/s]"
      ]
     },
     "metadata": {},
     "output_type": "display_data"
    },
    {
     "name": "stdout",
     "output_type": "stream",
     "text": [
      "iteration: 1\n"
     ]
    },
    {
     "data": {
      "application/vnd.jupyter.widget-view+json": {
       "model_id": "af14b4e959ff482b9c56f8fdd7f78ef5",
       "version_major": 2,
       "version_minor": 0
      },
      "text/plain": [
       "train_game:   0%|          | 0/100 [00:00<?, ?it/s]"
      ]
     },
     "metadata": {},
     "output_type": "display_data"
    },
    {
     "data": {
      "application/vnd.jupyter.widget-view+json": {
       "model_id": "9b67d3b4f8f840e799a5cd7dbe9d2803",
       "version_major": 2,
       "version_minor": 0
      },
      "text/plain": [
       "epochs:   0%|          | 0/4 [00:00<?, ?it/s]"
      ]
     },
     "metadata": {},
     "output_type": "display_data"
    },
    {
     "name": "stdout",
     "output_type": "stream",
     "text": [
      "iteration: 2\n"
     ]
    },
    {
     "data": {
      "application/vnd.jupyter.widget-view+json": {
       "model_id": "7d6bdad0d60a47969c9aeb76e5ba5194",
       "version_major": 2,
       "version_minor": 0
      },
      "text/plain": [
       "train_game:   0%|          | 0/100 [00:00<?, ?it/s]"
      ]
     },
     "metadata": {},
     "output_type": "display_data"
    },
    {
     "data": {
      "application/vnd.jupyter.widget-view+json": {
       "model_id": "7da7238f8a9b49d88aaaa509bf0995a7",
       "version_major": 2,
       "version_minor": 0
      },
      "text/plain": [
       "epochs:   0%|          | 0/4 [00:00<?, ?it/s]"
      ]
     },
     "metadata": {},
     "output_type": "display_data"
    },
    {
     "name": "stdout",
     "output_type": "stream",
     "text": [
      "iteration: 3\n"
     ]
    },
    {
     "data": {
      "application/vnd.jupyter.widget-view+json": {
       "model_id": "a5354a5e2f9942cdb3dc07baeaaca2b0",
       "version_major": 2,
       "version_minor": 0
      },
      "text/plain": [
       "train_game:   0%|          | 0/100 [00:00<?, ?it/s]"
      ]
     },
     "metadata": {},
     "output_type": "display_data"
    },
    {
     "data": {
      "application/vnd.jupyter.widget-view+json": {
       "model_id": "0d173e0784284731b1107e8737fe1a5a",
       "version_major": 2,
       "version_minor": 0
      },
      "text/plain": [
       "epochs:   0%|          | 0/4 [00:00<?, ?it/s]"
      ]
     },
     "metadata": {},
     "output_type": "display_data"
    },
    {
     "name": "stdout",
     "output_type": "stream",
     "text": [
      "iteration: 4\n"
     ]
    },
    {
     "data": {
      "application/vnd.jupyter.widget-view+json": {
       "model_id": "12ada3b5e74a4352aed5d06fe029bc97",
       "version_major": 2,
       "version_minor": 0
      },
      "text/plain": [
       "train_game:   0%|          | 0/100 [00:00<?, ?it/s]"
      ]
     },
     "metadata": {},
     "output_type": "display_data"
    },
    {
     "data": {
      "application/vnd.jupyter.widget-view+json": {
       "model_id": "4497f2b14ef44eef96a6fd6080a50ee9",
       "version_major": 2,
       "version_minor": 0
      },
      "text/plain": [
       "epochs:   0%|          | 0/4 [00:00<?, ?it/s]"
      ]
     },
     "metadata": {},
     "output_type": "display_data"
    },
    {
     "name": "stdout",
     "output_type": "stream",
     "text": [
      "iteration: 5\n"
     ]
    },
    {
     "data": {
      "application/vnd.jupyter.widget-view+json": {
       "model_id": "5ef0563ac1454ad7a2a0a58bc06c6ee6",
       "version_major": 2,
       "version_minor": 0
      },
      "text/plain": [
       "train_game:   0%|          | 0/100 [00:00<?, ?it/s]"
      ]
     },
     "metadata": {},
     "output_type": "display_data"
    },
    {
     "data": {
      "application/vnd.jupyter.widget-view+json": {
       "model_id": "af1f1fe4ca0d438eba11f0a848d56dde",
       "version_major": 2,
       "version_minor": 0
      },
      "text/plain": [
       "epochs:   0%|          | 0/4 [00:00<?, ?it/s]"
      ]
     },
     "metadata": {},
     "output_type": "display_data"
    },
    {
     "name": "stdout",
     "output_type": "stream",
     "text": [
      "iteration: 6\n"
     ]
    },
    {
     "data": {
      "application/vnd.jupyter.widget-view+json": {
       "model_id": "7f79d800e91040cb9821a9d05bf9e96d",
       "version_major": 2,
       "version_minor": 0
      },
      "text/plain": [
       "train_game:   0%|          | 0/100 [00:00<?, ?it/s]"
      ]
     },
     "metadata": {},
     "output_type": "display_data"
    },
    {
     "data": {
      "application/vnd.jupyter.widget-view+json": {
       "model_id": "914be868c71848978d8ff4a6e97be562",
       "version_major": 2,
       "version_minor": 0
      },
      "text/plain": [
       "epochs:   0%|          | 0/4 [00:00<?, ?it/s]"
      ]
     },
     "metadata": {},
     "output_type": "display_data"
    },
    {
     "name": "stdout",
     "output_type": "stream",
     "text": [
      "iteration: 7\n"
     ]
    },
    {
     "data": {
      "application/vnd.jupyter.widget-view+json": {
       "model_id": "86451ddaf8544b3dac0fcc174a486ca0",
       "version_major": 2,
       "version_minor": 0
      },
      "text/plain": [
       "train_game:   0%|          | 0/100 [00:00<?, ?it/s]"
      ]
     },
     "metadata": {},
     "output_type": "display_data"
    },
    {
     "data": {
      "application/vnd.jupyter.widget-view+json": {
       "model_id": "fd10117c1c3647089bea1c72d57c967f",
       "version_major": 2,
       "version_minor": 0
      },
      "text/plain": [
       "epochs:   0%|          | 0/4 [00:00<?, ?it/s]"
      ]
     },
     "metadata": {},
     "output_type": "display_data"
    },
    {
     "name": "stdout",
     "output_type": "stream",
     "text": [
      "iteration: 8\n"
     ]
    },
    {
     "data": {
      "application/vnd.jupyter.widget-view+json": {
       "model_id": "0bf6d6b42ba24608b3a81e124daf3c91",
       "version_major": 2,
       "version_minor": 0
      },
      "text/plain": [
       "train_game:   0%|          | 0/100 [00:00<?, ?it/s]"
      ]
     },
     "metadata": {},
     "output_type": "display_data"
    },
    {
     "data": {
      "application/vnd.jupyter.widget-view+json": {
       "model_id": "03c33b5fd3ff43dea727af43c9fd3c87",
       "version_major": 2,
       "version_minor": 0
      },
      "text/plain": [
       "epochs:   0%|          | 0/4 [00:00<?, ?it/s]"
      ]
     },
     "metadata": {},
     "output_type": "display_data"
    },
    {
     "name": "stdout",
     "output_type": "stream",
     "text": [
      "iteration: 9\n"
     ]
    },
    {
     "data": {
      "application/vnd.jupyter.widget-view+json": {
       "model_id": "44e63d63dc0549559915f192167a1194",
       "version_major": 2,
       "version_minor": 0
      },
      "text/plain": [
       "train_game:   0%|          | 0/100 [00:00<?, ?it/s]"
      ]
     },
     "metadata": {},
     "output_type": "display_data"
    },
    {
     "data": {
      "application/vnd.jupyter.widget-view+json": {
       "model_id": "d07dc9234d5e433db866f41c8627dd0e",
       "version_major": 2,
       "version_minor": 0
      },
      "text/plain": [
       "epochs:   0%|          | 0/4 [00:00<?, ?it/s]"
      ]
     },
     "metadata": {},
     "output_type": "display_data"
    }
   ],
   "source": [
    "args = {\n",
    "    'num_iterations': 10,\n",
    "    'num_train_games': 100,\n",
    "    'num_mcts_runs': 50,\n",
    "    'num_epochs': 4,\n",
    "    'batch_size': 64,\n",
    "    'temperature': 1,\n",
    "    'K': 5,\n",
    "    'c': 2,\n",
    "    'N': 10,\n",
    "    'dirichlet_alpha': 0.3,\n",
    "    'dirichlet_epsilon': 0.25,\n",
    "    'gamma': 0.997,\n",
    "    'value_loss_weight': 0.25,\n",
    "}\n",
    "\n",
    "LOAD = True\n",
    "\n",
    "game = CartPole()\n",
    "muZero = MuZero(game).to(device)\n",
    "optimizer = torch.optim.Adam(muZero.parameters(), lr=0.001)\n",
    "\n",
    "if LOAD:\n",
    "    muZero.load_state_dict(torch.load(f\"Models/{game}/model_8.pt\"))\n",
    "    optimizer.load_state_dict(torch.load(f\"Models/{game}/optimizer_8.pt\"))\n",
    "\n",
    "trainer = Trainer(muZero, optimizer, game, args)\n",
    "trainer.run()"
   ]
  },
  {
   "cell_type": "code",
   "execution_count": 15,
   "metadata": {},
   "outputs": [],
   "source": [
    "import gymnasium as gym\n",
    "\n",
    "env = gym.make('CartPole-v1', render_mode=\"human\")\n",
    "testGame = CartPole()\n",
    "\n",
    "muZero = MuZero(testGame).to(device)\n",
    "muZero.load_state_dict(torch.load(\"Models/CartPole-v1/model_0.pt\", map_location=device))\n",
    "muZero.eval()\n",
    "\n",
    "TEMPERATURE = 1\n",
    "\n",
    "with torch.no_grad():\n",
    "   observation, info = env.reset(seed=42)\n",
    "   encoded_observation = testGame.get_encoded_observation(observation)\n",
    "   encoded_observation = torch.tensor(encoded_observation, dtype=torch.float32, device=device).unsqueeze(0)\n",
    "   hidden_state = muZero.represent(encoded_observation)\n",
    "\n",
    "   for _ in range(1000):\n",
    "      action_probs, value = muZero.predict(hidden_state)\n",
    "      action_probs = torch.softmax(action_probs, dim=1).cpu().numpy()[0]\n",
    "   \n",
    "      temp_action_probs = action_probs ** (1 / TEMPERATURE)\n",
    "      temp_action_probs = temp_action_probs / np.sum(temp_action_probs)\n",
    "      action = np.random.choice(testGame.action_size, p=temp_action_probs)\n",
    "\n",
    "      observation, reward, terminated, truncated, info = env.step(action)\n",
    "\n",
    "      if terminated or truncated:\n",
    "         observation, info = env.reset()\n",
    "\n",
    "      encoded_observation = testGame.get_encoded_observation(observation)\n",
    "      encoded_observation = torch.tensor(encoded_observation, dtype=torch.float32, device=device).unsqueeze(0)\n",
    "      hidden_state = muZero.represent(encoded_observation)\n",
    "\n",
    "   env.close()"
   ]
  },
  {
   "cell_type": "code",
   "execution_count": null,
   "metadata": {},
   "outputs": [],
   "source": []
  }
 ],
 "metadata": {
  "kernelspec": {
   "display_name": "myenv",
   "language": "python",
   "name": "python3"
  },
  "language_info": {
   "codemirror_mode": {
    "name": "ipython",
    "version": 3
   },
   "file_extension": ".py",
   "mimetype": "text/x-python",
   "name": "python",
   "nbconvert_exporter": "python",
   "pygments_lexer": "ipython3",
   "version": "3.8.13"
  },
  "orig_nbformat": 4,
  "vscode": {
   "interpreter": {
    "hash": "2177f1ca12c1330a133c1d40b46100b268ab447cddcbdfdc0c7b2b7e4840e700"
   }
  }
 },
 "nbformat": 4,
 "nbformat_minor": 2
}
