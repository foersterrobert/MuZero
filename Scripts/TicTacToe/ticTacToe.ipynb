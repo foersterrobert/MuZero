{
 "cells": [
  {
   "cell_type": "code",
   "execution_count": 1,
   "metadata": {},
   "outputs": [
    {
     "name": "stdout",
     "output_type": "stream",
     "text": [
      "cuda\n"
     ]
    }
   ],
   "source": [
    "import torch\n",
    "import torch.nn.functional as F\n",
    "import torch.nn as nn\n",
    "import numpy as np\n",
    "import random\n",
    "import math\n",
    "from tqdm.notebook import trange\n",
    "from kaggle_environments import make, evaluate\n",
    "\n",
    "torch.manual_seed(0)\n",
    "random.seed(0)\n",
    "np.random.seed(0)\n",
    "\n",
    "device = torch.device(\"cuda\" if torch.cuda.is_available() else \"cpu\")\n",
    "print(device)\n",
    "\n",
    "# change versions in requirements.txt"
   ]
  },
  {
   "cell_type": "code",
   "execution_count": 2,
   "metadata": {},
   "outputs": [],
   "source": [
    "class TicTacToe:\n",
    "    def __init__(self):\n",
    "        self.row_count = 3\n",
    "        self.column_count = 3\n",
    "        self.action_size = self.row_count * self.column_count\n",
    "        \n",
    "    def __repr__(self):\n",
    "        return \"TicTacToe\"\n",
    "        \n",
    "    def get_initial_state(self):\n",
    "        return np.zeros((self.row_count, self.column_count))\n",
    "    \n",
    "    def get_next_state(self, state, action, player):\n",
    "        row = action // self.column_count\n",
    "        column = action % self.column_count\n",
    "        state[row, column] = player\n",
    "        return state\n",
    "    \n",
    "    def get_valid_moves(self, state):\n",
    "        return (state.reshape(-1) == 0).astype(np.uint8)\n",
    "    \n",
    "    def check_win(self, state, action):\n",
    "        if action == None:\n",
    "            return False\n",
    "        \n",
    "        row = action // self.column_count\n",
    "        column = action % self.column_count\n",
    "        player = state[row, column]\n",
    "        \n",
    "        return (\n",
    "            np.sum(state[row, :]) == player * self.column_count\n",
    "            or np.sum(state[:, column]) == player * self.row_count\n",
    "            or np.sum(np.diag(state)) == player * self.row_count\n",
    "            or np.sum(np.diag(np.flip(state, axis=0))) == player * self.row_count\n",
    "        )\n",
    "    \n",
    "    def get_value_and_terminated(self, state, action):\n",
    "        if self.check_win(state, action):\n",
    "            return 1, True\n",
    "        if np.sum(self.get_valid_moves(state)) == 0:\n",
    "            return 0, True\n",
    "        return 0, False\n",
    "    \n",
    "    def get_opponent(self, player):\n",
    "        return -player\n",
    "    \n",
    "    def get_opponent_value(self, value):\n",
    "        return -value\n",
    "    \n",
    "    def change_perspective(self, state, player):\n",
    "        return state * player\n",
    "    \n",
    "    def get_encoded_observation(self, state):\n",
    "        encoded_state = np.stack(\n",
    "            (state == -1, state == 0, state == 1)\n",
    "        ).astype(np.float32)\n",
    "        \n",
    "        if len(state.shape) == 3:\n",
    "            encoded_state = np.swapaxes(encoded_state, 0, 1)\n",
    "        \n",
    "        return encoded_state"
   ]
  },
  {
   "cell_type": "code",
   "execution_count": 3,
   "metadata": {},
   "outputs": [],
   "source": [
    "class ReplayBuffer:\n",
    "    def __init__(self, args, game):\n",
    "        self.memory = []\n",
    "        self.trajectories = []\n",
    "        self.args = args\n",
    "        self.game = game\n",
    "\n",
    "    def __len__(self):\n",
    "        return len(self.trajectories)\n",
    "    \n",
    "    def empty(self):\n",
    "        self.memory = []\n",
    "        self.trajectories = []\n",
    "\n",
    "    def build_trajectories(self):\n",
    "        for i in range(len(self.memory)):\n",
    "            observation, action, policy, value, game_idx, is_terminal = self.memory[i]\n",
    "            if not is_terminal:\n",
    "                policy_list, action_list, value_list = [policy], [action], [value]\n",
    "\n",
    "                for k in range(1, self.args['K'] + 1):\n",
    "                    if i + k < len(self.memory) and self.memory[i + k][4] == game_idx:\n",
    "                        _, action, policy, value, _, is_terminal = self.memory[i + k]\n",
    "                        if is_terminal:\n",
    "                            action = np.random.choice(self.game.action_size)\n",
    "                        policy_list.append(policy)\n",
    "                        action_list.append(action)\n",
    "                        value_list.append(value)\n",
    "\n",
    "                    else:\n",
    "                        policy_list.append(np.zeros(self.game.action_size, dtype=np.float32))\n",
    "                        action_list.append(np.random.choice(self.game.action_size))\n",
    "                        value_list.append(self.game.get_opponent_value(value_list[-1]))\n",
    "\n",
    "                policy_list = np.stack(policy_list)\n",
    "                self.trajectories.append((observation, policy_list, action_list, value_list))"
   ]
  },
  {
   "cell_type": "code",
   "execution_count": 4,
   "metadata": {},
   "outputs": [],
   "source": [
    "class Node:\n",
    "    def __init__(self, muZero, game, args, state, parent=None, action_taken=None, prior=0, visit_count=0):\n",
    "        self.muZero = muZero\n",
    "        self.game = game\n",
    "        self.args = args\n",
    "        self.state = state\n",
    "        self.parent = parent\n",
    "        self.action_taken = action_taken\n",
    "        self.prior = prior\n",
    "        self.children = []\n",
    "        \n",
    "        self.visit_count = visit_count\n",
    "        self.value_sum = 0\n",
    "        \n",
    "    def is_fully_expanded(self):\n",
    "        return len(self.children) > 0\n",
    "    \n",
    "    def select(self):\n",
    "        best_child = None\n",
    "        best_ucb = -np.inf\n",
    "        \n",
    "        for child in self.children:\n",
    "            ucb = self.get_ucb(child)\n",
    "            if ucb > best_ucb:\n",
    "                best_child = child\n",
    "                best_ucb = ucb\n",
    "                \n",
    "        return best_child\n",
    "    \n",
    "    def get_ucb(self, child):\n",
    "        if child.visit_count == 0:\n",
    "            q_value = 0\n",
    "        else:\n",
    "            q_value = 1 - ((child.value_sum / child.visit_count) + 1) / 2\n",
    "        return q_value + self.args['C'] * (math.sqrt(self.visit_count) / (child.visit_count + 1)) * child.prior\n",
    "\n",
    "    @torch.no_grad()\n",
    "    def expand(self, policy):\n",
    "        actions = [a for a in range(self.game.action_size) if policy[a] > 0]\n",
    "        child_state = self.state.copy()\n",
    "        child_state = np.expand_dims(child_state, axis=0).repeat(len(actions), axis=0)\n",
    "\n",
    "        child_state = self.muZero.dynamics(\n",
    "            torch.tensor(child_state, dtype=torch.float32, device=self.muZero.device), actions)\n",
    "        child_state = child_state.cpu().numpy()\n",
    "        \n",
    "        for i, action in enumerate(actions):\n",
    "            child = Node(\n",
    "                self.muZero,\n",
    "                self.game,\n",
    "                self.args,\n",
    "                state=child_state[i],\n",
    "                parent=self,\n",
    "                action_taken=action,\n",
    "                prior=policy[action],\n",
    "            )\n",
    "            self.children.append(child)\n",
    "\n",
    "    def backpropagate(self, value):\n",
    "        self.value_sum += value\n",
    "        self.visit_count += 1\n",
    "\n",
    "        if self.parent is not None:\n",
    "            value = self.game.get_opponent_value(value)\n",
    "            self.parent.backpropagate(value)\n",
    "\n",
    "class MCTS:\n",
    "    def __init__(self, muZero, game, args):\n",
    "        self.muZero = muZero\n",
    "        self.game = game\n",
    "        self.args = args\n",
    "\n",
    "    @torch.no_grad()\n",
    "    def search(self, state, valid_moves):\n",
    "        hidden_state = self.muZero.represent(\n",
    "            torch.tensor(state, dtype=torch.float32, device=self.muZero.device).unsqueeze(0)\n",
    "        )\n",
    "        policy, _ = self.muZero.predict(hidden_state)\n",
    "        hidden_state = hidden_state.cpu().numpy().squeeze(0)\n",
    "        \n",
    "        root = Node(self.muZero, self.game, self.args, hidden_state, visit_count=1)\n",
    "\n",
    "        policy = torch.softmax(policy, dim=1).squeeze(0).cpu().numpy()\n",
    "        policy = (1 - self.args['dirichlet_epsilon']) * policy + self.args['dirichlet_epsilon'] \\\n",
    "            * np.random.dirichlet([self.args['dirichlet_alpha']] * self.game.action_size)\n",
    "        policy *= valid_moves\n",
    "        policy /= np.sum(policy)\n",
    "\n",
    "        root.expand(policy)\n",
    "\n",
    "        for search in range(self.args['num_mcts_searches']):\n",
    "            node = root\n",
    "\n",
    "            while node.is_fully_expanded():\n",
    "                node = node.select()\n",
    "\n",
    "            policy, value = self.muZero.predict(\n",
    "                torch.tensor(node.state, dtype=torch.float32, device=self.muZero.device).unsqueeze(0)\n",
    "            )\n",
    "            policy = torch.softmax(policy, dim=1).squeeze().cpu().numpy()\n",
    "            value = value.item()\n",
    "\n",
    "            node.expand(policy)\n",
    "            node.backpropagate(value)\n",
    "\n",
    "        action_probs = np.zeros(self.game.action_size, dtype=np.float32)\n",
    "        for child in root.children:\n",
    "            action_probs[child.action_taken] = child.visit_count\n",
    "        action_probs /= np.sum(action_probs)\n",
    "        return action_probs"
   ]
  },
  {
   "cell_type": "code",
   "execution_count": 5,
   "metadata": {},
   "outputs": [],
   "source": [
    "class MuZero(nn.Module):\n",
    "    def __init__(self, game, device):\n",
    "        super().__init__()\n",
    "        self.game = game\n",
    "        self.device = device\n",
    "\n",
    "        self.predictionFunction = PredictionFunction(game)\n",
    "        self.dynamicsFunction = DynamicsFunction()\n",
    "        self.representationFunction = RepresentationFunction()\n",
    "\n",
    "        self.to(device)\n",
    "\n",
    "    def predict(self, hidden_state):\n",
    "        return self.predictionFunction(hidden_state)\n",
    "\n",
    "    def represent(self, observation):\n",
    "        return self.representationFunction(observation)\n",
    "\n",
    "    def dynamics(self, hidden_state, actions):\n",
    "        \n",
    "        actionPlane = torch.zeros((hidden_state.shape[0], 1, self.game.row_count, self.game.column_count), device=self.device, dtype=torch.float32)\n",
    "        for i, a in enumerate(actions):\n",
    "            row = a // self.game.column_count\n",
    "            col = a % self.game.column_count\n",
    "            actionPlane[i, 0, row, col] = 1\n",
    "        x = torch.cat((hidden_state, actionPlane), dim=1)\n",
    "        return self.dynamicsFunction(x)\n",
    "\n",
    "class DynamicsFunction(nn.Module):\n",
    "    def __init__(self, num_resBlocks=2, num_hidden=32):\n",
    "        super().__init__()\n",
    "        \n",
    "        self.startBlock = nn.Sequential(\n",
    "            nn.Conv2d(4, num_hidden, kernel_size=3, padding=1),\n",
    "            nn.BatchNorm2d(num_hidden),\n",
    "            nn.ReLU()\n",
    "        )\n",
    "        self.backBone = nn.ModuleList([ResBlock(num_hidden) for _ in range(num_resBlocks)])\n",
    "        self.endBlock = nn.Sequential(\n",
    "            nn.Conv2d(num_hidden, 3, kernel_size=3, padding=1),\n",
    "            nn.BatchNorm2d(3),\n",
    "        )\n",
    "\n",
    "    def forward(self, x):\n",
    "        x = self.startBlock(x)\n",
    "        for resblock in self.backBone:\n",
    "            x = resblock(x)\n",
    "        x = self.endBlock(x)\n",
    "        return x\n",
    "\n",
    "class PredictionFunction(nn.Module):\n",
    "    def __init__(self, game, num_resBlocks=2, num_hidden=32):\n",
    "        super().__init__()\n",
    "\n",
    "        self.startBlock = nn.Sequential(\n",
    "            nn.Conv2d(3, num_hidden, kernel_size=3, padding=1),\n",
    "            nn.BatchNorm2d(num_hidden),\n",
    "            nn.ReLU()\n",
    "        )\n",
    "        self.backBone = nn.ModuleList(\n",
    "            [ResBlock(num_hidden) for i in range(num_resBlocks)]\n",
    "        )\n",
    "        self.policyHead = nn.Sequential(\n",
    "            nn.Conv2d(num_hidden, 32, kernel_size=3, padding=1),\n",
    "            nn.BatchNorm2d(32),\n",
    "            nn.ReLU(),\n",
    "            nn.Flatten(),\n",
    "            nn.Linear(32 * game.row_count * game.column_count, game.action_size)\n",
    "        )\n",
    "        self.valueHead = nn.Sequential(\n",
    "            nn.Conv2d(num_hidden, 3, kernel_size=3, padding=1),\n",
    "            nn.BatchNorm2d(3),\n",
    "            nn.ReLU(),\n",
    "            nn.Flatten(),\n",
    "            nn.Linear(3 * game.row_count * game.column_count, 1),\n",
    "            nn.Tanh()\n",
    "        )\n",
    "        \n",
    "    def forward(self, x):\n",
    "        x = self.startBlock(x)\n",
    "        for resBlock in self.backBone:\n",
    "            x = resBlock(x)\n",
    "        policy = self.policyHead(x)\n",
    "        value = self.valueHead(x)\n",
    "        return policy, value\n",
    " \n",
    "class RepresentationFunction(nn.Module):\n",
    "    def __init__(self, num_hidden=32):\n",
    "        super().__init__()\n",
    "        \n",
    "        self.layers = nn.Sequential(\n",
    "            nn.Conv2d(3, num_hidden // 2, kernel_size=3, padding=1),\n",
    "            nn.BatchNorm2d(num_hidden // 2),\n",
    "            nn.ReLU(),\n",
    "            nn.Conv2d(num_hidden // 2, num_hidden, kernel_size=3, padding=1),\n",
    "            nn.BatchNorm2d(num_hidden),\n",
    "            nn.ReLU(),\n",
    "            # ResBlock(num_hidden),\n",
    "            nn.Conv2d(num_hidden, num_hidden // 2, kernel_size=3, padding=1),\n",
    "            nn.BatchNorm2d(num_hidden // 2),\n",
    "            nn.ReLU(),\n",
    "            nn.Conv2d(num_hidden // 2, 3, kernel_size=3, padding=1),\n",
    "            nn.BatchNorm2d(3),\n",
    "        )\n",
    "\n",
    "    def forward(self, x):\n",
    "        x = self.layers(x)\n",
    "        return x\n",
    "\n",
    "class ResBlock(nn.Module):\n",
    "    def __init__(self, num_hidden):\n",
    "        super().__init__()\n",
    "        self.conv1 = nn.Conv2d(num_hidden, num_hidden, kernel_size=3, padding=1)\n",
    "        self.bn1 = nn.BatchNorm2d(num_hidden)\n",
    "        self.conv2 = nn.Conv2d(num_hidden, num_hidden, kernel_size=3, padding=1)\n",
    "        self.bn2 = nn.BatchNorm2d(num_hidden)\n",
    "        \n",
    "    def forward(self, x):\n",
    "        residual = x\n",
    "        x = F.relu(self.bn1(self.conv1(x)))\n",
    "        x = self.bn2(self.conv2(x))\n",
    "        x += residual\n",
    "        x = F.relu(x)\n",
    "        return x\n"
   ]
  },
  {
   "cell_type": "code",
   "execution_count": 6,
   "metadata": {},
   "outputs": [],
   "source": [
    "class Trainer:\n",
    "    def __init__(self, muZero, optimizer, game, args):\n",
    "        self.muZero = muZero\n",
    "        self.optimizer = optimizer\n",
    "        self.game = game\n",
    "        self.args = args\n",
    "        self.mcts = MCTS(self.muZero, self.game, self.args)\n",
    "        self.replayBuffer = ReplayBuffer(self.args, self.game)\n",
    "\n",
    "    def self_play(self, game_idx):\n",
    "        memory = []\n",
    "        player = 1\n",
    "        observation = self.game.get_initial_state()\n",
    "\n",
    "        while True:\n",
    "            valid_moves = self.game.get_valid_moves(observation)\n",
    "            neutral_observation = self.game.change_perspective(observation, player)\n",
    "            encoded_observation = self.game.get_encoded_observation(neutral_observation)\n",
    "            action_probs = self.mcts.search(encoded_observation, valid_moves)\n",
    "\n",
    "            temperature_action_probs = action_probs ** (1 / self.args['temperature'])\n",
    "            temperature_action_probs /= np.sum(temperature_action_probs)\n",
    "            action = np.random.choice(self.game.action_size, p=temperature_action_probs)\n",
    "\n",
    "            memory.append((encoded_observation, action, action_probs, player))\n",
    "\n",
    "            observation = self.game.get_next_state(observation, action, player)\n",
    "\n",
    "            value, is_terminal = self.game.get_value_and_terminated(observation, action)\n",
    "\n",
    "            if is_terminal:\n",
    "                returnMemory = []\n",
    "                for hist_neutral_observation, hist_action, hist_action_probs, hist_player in memory:\n",
    "                    hist_outcome = value if hist_player == player else self.game.get_opponent_value(value)\n",
    "                    returnMemory.append((\n",
    "                        hist_neutral_observation,\n",
    "                        hist_action, \n",
    "                        hist_action_probs,\n",
    "                        hist_outcome,\n",
    "                        game_idx,\n",
    "                        False # is_terminal\n",
    "                    ))\n",
    "                if self.args['K'] > 0:\n",
    "                    hist_outcome = value if self.game.get_opponent(player) == player else self.game.get_opponent_value(value)\n",
    "                    returnMemory.append((\n",
    "                        self.game.get_encoded_observation(self.game.change_perspective(observation, self.game.get_opponent(player))),\n",
    "                        None,\n",
    "                        np.zeros(self.game.action_size, dtype=np.float32),\n",
    "                        hist_outcome,\n",
    "                        game_idx,\n",
    "                        True # is_terminal\n",
    "                    ))\n",
    "                return returnMemory\n",
    "            \n",
    "            player = self.game.get_opponent(player)\n",
    "\n",
    "    def train(self):\n",
    "        random.shuffle(self.replayBuffer.trajectories)\n",
    "        for batchIdx in range(0, len(self.replayBuffer), self.args['batch_size']): \n",
    "            sample = self.replayBuffer.trajectories[batchIdx:min(len(self.replayBuffer) - 1, batchIdx + self.args['batch_size'])]\n",
    "            observation, policy_targets, action, value_targets = list(zip(*sample))\n",
    "\n",
    "            observation = torch.tensor(np.array(observation), dtype=torch.float32, device=self.muZero.device)\n",
    "            action = np.array(action)\n",
    "            policy_targets = torch.tensor(np.array(policy_targets), dtype=torch.float32, device=self.muZero.device)\n",
    "            value_targets = torch.tensor(np.array(value_targets), dtype=torch.float32, device=self.muZero.device).unsqueeze(-1)\n",
    "\n",
    "            hidden_state = self.muZero.represent(observation)\n",
    "            out_policy, out_value = self.muZero.predict(hidden_state)\n",
    "\n",
    "            policy_loss = F.cross_entropy(out_policy, policy_targets[:, 0]) \n",
    "            value_loss = F.mse_loss(out_value, value_targets[:, 0])\n",
    "\n",
    "            if self.args['K'] > 0:\n",
    "                for k in range(1, self.args['K'] + 1):\n",
    "                    hidden_state, self.muZero.dynamics(hidden_state, action[:, k - 1])\n",
    "                    hidden_state.register_hook(lambda grad: grad * 0.5)\n",
    "\n",
    "                    out_policy, out_value = self.muZero.predict(hidden_state)\n",
    "\n",
    "                    policy_loss += F.cross_entropy(out_policy, policy_targets[:, k], reduction='sum') \\\n",
    "                        / (policy_targets[:, k].sum(axis=1)!=0).sum() # mask out terminal states\n",
    "                    value_loss += F.mse_loss(out_value, value_targets[:, k])\n",
    "\n",
    "            loss = value_loss + policy_loss\n",
    "            loss.register_hook(lambda grad: grad * 1 / self.args['K'])\n",
    "\n",
    "            self.optimizer.zero_grad()\n",
    "            loss.backward()\n",
    "            torch.nn.utils.clip_grad_norm_(self.muZero.parameters(), self.args['max_grad_norm'])\n",
    "            self.optimizer.step()\n",
    "\n",
    "    def run(self):\n",
    "        for iteration in range(self.args['num_iterations']):\n",
    "            print(f\"iteration: {iteration}\")\n",
    "            self.replayBuffer.empty()\n",
    "\n",
    "            self.muZero.eval()\n",
    "            for train_game_idx in (self_play_bar := trange(self.args['num_train_games'], desc=\"train_game\")):\n",
    "                self.replayBuffer.memory += self.self_play(train_game_idx + iteration * self.args['num_train_games'])\n",
    "                self_play_bar.set_description(f\"Avg. steps per Game: {len(self.replayBuffer.memory) / (train_game_idx + 1):.2f}\")\n",
    "            self.replayBuffer.build_trajectories()\n",
    "\n",
    "            self.muZero.train()\n",
    "            for epoch in trange(self.args['num_epochs'], desc=\"epochs\"):\n",
    "                self.train()\n",
    "\n",
    "            torch.save(self.muZero.state_dict(), f\"../../Environments/{self.game}/Models/model_{iteration}.pt\")\n",
    "            torch.save(self.optimizer.state_dict(), f\"../../Environments/{self.game}/Models/optimizer_{iteration}.pt\")"
   ]
  },
  {
   "cell_type": "code",
   "execution_count": 7,
   "metadata": {},
   "outputs": [
    {
     "name": "stdout",
     "output_type": "stream",
     "text": [
      "iteration: 0\n"
     ]
    },
    {
     "data": {
      "application/vnd.jupyter.widget-view+json": {
       "model_id": "dbf943dc2eb043ba9caf47edefc9469b",
       "version_major": 2,
       "version_minor": 0
      },
      "text/plain": [
       "train_game:   0%|          | 0/500 [00:00<?, ?it/s]"
      ]
     },
     "metadata": {},
     "output_type": "display_data"
    },
    {
     "data": {
      "application/vnd.jupyter.widget-view+json": {
       "model_id": "b3ec4237d2fe4c8b8aee3ca0fa8afa31",
       "version_major": 2,
       "version_minor": 0
      },
      "text/plain": [
       "epochs:   0%|          | 0/4 [00:00<?, ?it/s]"
      ]
     },
     "metadata": {},
     "output_type": "display_data"
    },
    {
     "name": "stdout",
     "output_type": "stream",
     "text": [
      "iteration: 1\n"
     ]
    },
    {
     "data": {
      "application/vnd.jupyter.widget-view+json": {
       "model_id": "d652a5931e6f4a2c89d158622b939a44",
       "version_major": 2,
       "version_minor": 0
      },
      "text/plain": [
       "train_game:   0%|          | 0/500 [00:00<?, ?it/s]"
      ]
     },
     "metadata": {},
     "output_type": "display_data"
    },
    {
     "data": {
      "application/vnd.jupyter.widget-view+json": {
       "model_id": "642733bd0a434cf580015834b1643fc5",
       "version_major": 2,
       "version_minor": 0
      },
      "text/plain": [
       "epochs:   0%|          | 0/4 [00:00<?, ?it/s]"
      ]
     },
     "metadata": {},
     "output_type": "display_data"
    },
    {
     "name": "stdout",
     "output_type": "stream",
     "text": [
      "iteration: 2\n"
     ]
    },
    {
     "data": {
      "application/vnd.jupyter.widget-view+json": {
       "model_id": "67aeeaaf581b40ca9aa5cee1738adeb0",
       "version_major": 2,
       "version_minor": 0
      },
      "text/plain": [
       "train_game:   0%|          | 0/500 [00:00<?, ?it/s]"
      ]
     },
     "metadata": {},
     "output_type": "display_data"
    },
    {
     "data": {
      "application/vnd.jupyter.widget-view+json": {
       "model_id": "7e17e4902ec94ecf9c9676be87805718",
       "version_major": 2,
       "version_minor": 0
      },
      "text/plain": [
       "epochs:   0%|          | 0/4 [00:00<?, ?it/s]"
      ]
     },
     "metadata": {},
     "output_type": "display_data"
    },
    {
     "name": "stdout",
     "output_type": "stream",
     "text": [
      "iteration: 3\n"
     ]
    },
    {
     "data": {
      "application/vnd.jupyter.widget-view+json": {
       "model_id": "165831ab25a642dd83f1a58408562808",
       "version_major": 2,
       "version_minor": 0
      },
      "text/plain": [
       "train_game:   0%|          | 0/500 [00:00<?, ?it/s]"
      ]
     },
     "metadata": {},
     "output_type": "display_data"
    },
    {
     "data": {
      "application/vnd.jupyter.widget-view+json": {
       "model_id": "8d73451099cf49a3a439d27bd11fd716",
       "version_major": 2,
       "version_minor": 0
      },
      "text/plain": [
       "epochs:   0%|          | 0/4 [00:00<?, ?it/s]"
      ]
     },
     "metadata": {},
     "output_type": "display_data"
    },
    {
     "name": "stdout",
     "output_type": "stream",
     "text": [
      "iteration: 4\n"
     ]
    },
    {
     "data": {
      "application/vnd.jupyter.widget-view+json": {
       "model_id": "c071df2d148e4c42b7c9044144c2306a",
       "version_major": 2,
       "version_minor": 0
      },
      "text/plain": [
       "train_game:   0%|          | 0/500 [00:00<?, ?it/s]"
      ]
     },
     "metadata": {},
     "output_type": "display_data"
    },
    {
     "data": {
      "application/vnd.jupyter.widget-view+json": {
       "model_id": "171d20ecc212425795730bca79ac7f58",
       "version_major": 2,
       "version_minor": 0
      },
      "text/plain": [
       "epochs:   0%|          | 0/4 [00:00<?, ?it/s]"
      ]
     },
     "metadata": {},
     "output_type": "display_data"
    },
    {
     "name": "stdout",
     "output_type": "stream",
     "text": [
      "iteration: 5\n"
     ]
    },
    {
     "data": {
      "application/vnd.jupyter.widget-view+json": {
       "model_id": "a5bf99cf42a74d55b4c83dedac2cc049",
       "version_major": 2,
       "version_minor": 0
      },
      "text/plain": [
       "train_game:   0%|          | 0/500 [00:00<?, ?it/s]"
      ]
     },
     "metadata": {},
     "output_type": "display_data"
    },
    {
     "data": {
      "application/vnd.jupyter.widget-view+json": {
       "model_id": "65ab483d1f414790b6cf4f4c053d10d5",
       "version_major": 2,
       "version_minor": 0
      },
      "text/plain": [
       "epochs:   0%|          | 0/4 [00:00<?, ?it/s]"
      ]
     },
     "metadata": {},
     "output_type": "display_data"
    },
    {
     "name": "stdout",
     "output_type": "stream",
     "text": [
      "iteration: 6\n"
     ]
    },
    {
     "data": {
      "application/vnd.jupyter.widget-view+json": {
       "model_id": "d7e26d63a2cf43b58e2c0756c409e066",
       "version_major": 2,
       "version_minor": 0
      },
      "text/plain": [
       "train_game:   0%|          | 0/500 [00:00<?, ?it/s]"
      ]
     },
     "metadata": {},
     "output_type": "display_data"
    },
    {
     "data": {
      "application/vnd.jupyter.widget-view+json": {
       "model_id": "bdf931e9b67b40559d1614083d45cb98",
       "version_major": 2,
       "version_minor": 0
      },
      "text/plain": [
       "epochs:   0%|          | 0/4 [00:00<?, ?it/s]"
      ]
     },
     "metadata": {},
     "output_type": "display_data"
    },
    {
     "name": "stdout",
     "output_type": "stream",
     "text": [
      "iteration: 7\n"
     ]
    },
    {
     "data": {
      "application/vnd.jupyter.widget-view+json": {
       "model_id": "4eb611edb5484446a7df78673737689b",
       "version_major": 2,
       "version_minor": 0
      },
      "text/plain": [
       "train_game:   0%|          | 0/500 [00:00<?, ?it/s]"
      ]
     },
     "metadata": {},
     "output_type": "display_data"
    }
   ],
   "source": [
    "args = {\n",
    "    'num_iterations': 20,\n",
    "    'num_train_games': 500,\n",
    "    'num_mcts_searches': 50,\n",
    "    'num_epochs': 4,\n",
    "    'batch_size': 64,\n",
    "    'temperature': 1.25,\n",
    "    'K': 3,\n",
    "    'C': 2,\n",
    "    'dirichlet_alpha': 0.3,\n",
    "    'dirichlet_epsilon': 0.25,\n",
    "    'max_grad_norm': 5,\n",
    "}\n",
    "\n",
    "LOAD = False\n",
    "\n",
    "game = TicTacToe()\n",
    "muZero = MuZero(game, device)\n",
    "optimizer = torch.optim.AdamW(muZero.parameters(), lr=0.001)\n",
    "\n",
    "if LOAD:\n",
    "    muZero.load_state_dict(torch.load(f\"../../Environments/{game}/Models/model.pt\"))\n",
    "    optimizer.load_state_dict(torch.load(f\"../../Environments/{game}/Models/optimizer.pt\"))\n",
    "\n",
    "trainer = Trainer(muZero, optimizer, game, args)\n",
    "trainer.run()"
   ]
  },
  {
   "cell_type": "code",
   "execution_count": null,
   "metadata": {},
   "outputs": [],
   "source": [
    "class KaggleAgent:\n",
    "    def __init__(self, muZero, game, args):\n",
    "        self.muZero = muZero\n",
    "        self.game = game\n",
    "        self.args = args\n",
    "        if self.args['search']:\n",
    "            self.mcts = MCTS(self.muZero, self.game, self.args)\n",
    "\n",
    "    def run(self, obs, conf):\n",
    "        player = obs['mark'] if obs['mark'] == 1 else -1\n",
    "        observation = np.array(obs['board']).reshape(self.game.row_count, self.game.column_count)\n",
    "        observation[observation==2] = -1\n",
    "        valid_moves = self.game.get_valid_moves(observation)\n",
    "        \n",
    "        neutral_observation = self.game.change_perspective(observation, player).copy()\n",
    "        encoded_observation = self.game.get_encoded_observation(neutral_observation)\n",
    "\n",
    "        with torch.no_grad():\n",
    "            if self.args['search']:\n",
    "                policy = self.mcts.search(encoded_observation, valid_moves)\n",
    "\n",
    "            else:\n",
    "                hidden_state = torch.tensor(encoded_observation, dtype=torch.float32, device=self.muZero.device).unsqueeze(0)\n",
    "                hidden_state = self.muZero.represent(hidden_state)\n",
    "\n",
    "                policy, _ = self.muZero.predict(hidden_state)\n",
    "                policy = torch.softmax(policy, dim=1).squeeze(0).cpu().numpy()\n",
    "\n",
    "        policy *= valid_moves\n",
    "        policy /= np.sum(policy)\n",
    "\n",
    "        if self.args['temperature'] == 0:\n",
    "            action = int(np.argmax(policy))\n",
    "        elif self.args['temperature'] == float('inf'):\n",
    "            action = np.random.choice([r for r in range(self.game.action_size) if policy[r] > 0])\n",
    "        else:\n",
    "            policy = policy ** (1 / self.args['temperature'])\n",
    "            policy /= np.sum(policy)\n",
    "            action = np.random.choice(self.game.action_size, p=policy)\n",
    "\n",
    "        return action\n",
    "    \n",
    "def evaluateKaggle(gameName, players, num_iterations=1):\n",
    "    if num_iterations == 1:\n",
    "        env = make(gameName, debug=True)\n",
    "        env.run(players)\n",
    "        return env.render(mode=\"ipython\")\n",
    "\n",
    "    results = np.array(evaluate(gameName, players, num_episodes=num_iterations))[:, 0]\n",
    "    print(f\"\"\"\n",
    "Player 1 | Wins: {np.sum(results == 1)} | Draws: {np.sum(results == 0)} | Losses: {np.sum(results == -1)}\n",
    "Player 2 | Wins: {np.sum(results == -1)} | Draws: {np.sum(results == 0)} | Losses: {np.sum(results == 1)}\n",
    "    \"\"\")\n"
   ]
  },
  {
   "cell_type": "code",
   "execution_count": null,
   "metadata": {},
   "outputs": [],
   "source": [
    "args = {\n",
    "    'num_mcts_searches': 50,\n",
    "    'temperature': 0,\n",
    "    'C': 2,\n",
    "    'dirichlet_alpha': 0.3,\n",
    "    'dirichlet_epsilon': 0.25,\n",
    "    'search': True,\n",
    "}\n",
    "\n",
    "game = TicTacToe()\n",
    "muZero = MuZero(game, device)\n",
    "\n",
    "muZero.load_state_dict(torch.load(\"../../Environments/TicTacToe/Models/model_13.pt\"))\n",
    "muZero.eval()\n",
    "\n",
    "player = KaggleAgent(muZero, game, args)\n",
    "\n",
    "evaluateKaggle(\"tictactoe\", [\"random\", player.run], num_iterations=100)\n",
    "evaluateKaggle(\"tictactoe\", [player.run, \"random\"], num_iterations=100)\n"
   ]
  }
 ],
 "metadata": {
  "kernelspec": {
   "display_name": "myenv",
   "language": "python",
   "name": "python3"
  },
  "language_info": {
   "codemirror_mode": {
    "name": "ipython",
    "version": 3
   },
   "file_extension": ".py",
   "mimetype": "text/x-python",
   "name": "python",
   "nbconvert_exporter": "python",
   "pygments_lexer": "ipython3",
   "version": "3.8.13"
  },
  "orig_nbformat": 4,
  "vscode": {
   "interpreter": {
    "hash": "2177f1ca12c1330a133c1d40b46100b268ab447cddcbdfdc0c7b2b7e4840e700"
   }
  }
 },
 "nbformat": 4,
 "nbformat_minor": 2
}
