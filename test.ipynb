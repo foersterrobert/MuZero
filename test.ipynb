{
 "cells": [
  {
   "cell_type": "code",
   "execution_count": 1,
   "metadata": {},
   "outputs": [],
   "source": [
    "import torch\n",
    "from Environments.TicTacToe.config import MuZeroConfigTicTacToe as Config\n",
    "from utils import KaggleAgent, GymAgent, evaluateKaggle, evaluateGym\n",
    "\n",
    "device = torch.device(\"cuda\" if torch.cuda.is_available() else \"cpu\")"
   ]
  },
  {
   "cell_type": "code",
   "execution_count": 6,
   "metadata": {},
   "outputs": [
    {
     "name": "stdout",
     "output_type": "stream",
     "text": [
      "\n",
      "Player 1 | Wins: 96 | Draws: 4 | Losses: 0\n",
      "Player 2 | Wins: 0 | Draws: 4 | Losses: 96\n",
      "    \n",
      "\n",
      "Player 1 | Wins: 5 | Draws: 33 | Losses: 62\n",
      "Player 2 | Wins: 62 | Draws: 33 | Losses: 5\n",
      "    \n"
     ]
    }
   ],
   "source": [
    "config = Config(\n",
    "    cheatModel=False,\n",
    "    cheatAvailableActions=False,\n",
    "    cheatTerminalState=False,\n",
    "    num_mcts_runs=60,\n",
    "    c_init=1,\n",
    "    dirichlet_epsilon=0.05,\n",
    ")\n",
    "\n",
    "config.model.load_state_dict(torch.load(f'Environments/{config.game}/Models/{config.model}_17.pt', map_location=device))\n",
    "config.model.eval()\n",
    "\n",
    "player = KaggleAgent(config.model, config.game, args={\n",
    "    'search': True,\n",
    "    'temperature': 0,\n",
    "    'device': device,\n",
    "    'config': config\n",
    "})\n",
    "\n",
    "evaluateKaggle(\"tictactoe\", [\"reaction\", player.run], num_iterations=100)\n",
    "evaluateKaggle(\"tictactoe\", [player.run, \"reaction\"], num_iterations=100)"
   ]
  }
 ],
 "metadata": {
  "kernelspec": {
   "display_name": "Python 3.8.12 ('myenv')",
   "language": "python",
   "name": "python3"
  },
  "language_info": {
   "codemirror_mode": {
    "name": "ipython",
    "version": 3
   },
   "file_extension": ".py",
   "mimetype": "text/x-python",
   "name": "python",
   "nbconvert_exporter": "python",
   "pygments_lexer": "ipython3",
   "version": "3.8.13"
  },
  "orig_nbformat": 4,
  "vscode": {
   "interpreter": {
    "hash": "2177f1ca12c1330a133c1d40b46100b268ab447cddcbdfdc0c7b2b7e4840e700"
   }
  }
 },
 "nbformat": 4,
 "nbformat_minor": 2
}
