{
 "cells": [
  {
   "cell_type": "code",
   "execution_count": 1,
   "metadata": {},
   "outputs": [],
   "source": [
    "import torch\n",
    "from games import TicTacToe\n",
    "from models import MuZero\n",
    "from utils import KaggleAgent, test\n",
    "\n",
    "device = torch.device(\"cuda\" if torch.cuda.is_available() else \"cpu\")\n",
    "\n",
    "args = {\n",
    "    'dynamicsFunction': {\n",
    "        'num_resBlocks': 4,\n",
    "        'hidden_planes': 128\n",
    "    },\n",
    "    'predictionFunction': {\n",
    "        'num_resBlocks': 4,\n",
    "        'hidden_planes': 128\n",
    "    },\n",
    "    'representationFunction': {\n",
    "        'num_resBlocks': 4,\n",
    "        'hidden_planes': 128\n",
    "    },\n",
    "    'cheatDynamicsFunction': True,\n",
    "    'cheatRepresentationFunction': True\n",
    "}\n",
    "\n",
    "game = TicTacToe()\n",
    "game.device = device"
   ]
  },
  {
   "cell_type": "code",
   "execution_count": 3,
   "metadata": {},
   "outputs": [
    {
     "name": "stdout",
     "output_type": "stream",
     "text": [
      "\n",
      "Player 1 | Wins: 0 | Draws: 904 | Losses: 96\n",
      "Player 2 | Wins: 96 | Draws: 904 | Losses: 0\n",
      "    \n"
     ]
    }
   ],
   "source": [
    "# state_dict = torch.load(f'../AlphaZero/Models/{game}/model.pt', map_location=device)\n",
    "# for key in list(state_dict.keys()):\n",
    "#     state_dict[\"predictionFunction.\" + key] = state_dict.pop(key)\n",
    "\n",
    "model = MuZero(game, args).to(device)\n",
    "# model.load_state_dict(state_dict)\n",
    "model.load_state_dict(torch.load(f'Models/{game}/model_7.pt', map_location=device))\n",
    "model.eval()\n",
    "player = KaggleAgent(model, game, temperature=0)\n",
    "\n",
    "# model2 = MuZero(game, args).to(device)\n",
    "# model2.load_state_dict(torch.load(f'Models/{game}/model.pt', map_location=device))\n",
    "# model2.eval()\n",
    "# player2 = KaggleAgent(model2, game, temperature=1)\n",
    "\n",
    "players = [\"reaction\", player.run]\n",
    "\n",
    "test(players, 1000)"
   ]
  }
 ],
 "metadata": {
  "kernelspec": {
   "display_name": "Python 3.8.12 ('myenv')",
   "language": "python",
   "name": "python3"
  },
  "language_info": {
   "codemirror_mode": {
    "name": "ipython",
    "version": 3
   },
   "file_extension": ".py",
   "mimetype": "text/x-python",
   "name": "python",
   "nbconvert_exporter": "python",
   "pygments_lexer": "ipython3",
   "version": "3.8.13"
  },
  "orig_nbformat": 4,
  "vscode": {
   "interpreter": {
    "hash": "2177f1ca12c1330a133c1d40b46100b268ab447cddcbdfdc0c7b2b7e4840e700"
   }
  }
 },
 "nbformat": 4,
 "nbformat_minor": 2
}
