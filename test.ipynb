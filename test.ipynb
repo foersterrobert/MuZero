{
 "cells": [
  {
   "cell_type": "code",
   "execution_count": null,
   "metadata": {},
   "outputs": [],
   "source": [
    "import torch\n",
    "import numpy as np\n",
    "from utils import KaggleAgent, GymAgent, evaluateKaggle, evaluateGym\n",
    "\n",
    "device = torch.device(\"cuda\" if torch.cuda.is_available() else \"cpu\")"
   ]
  },
  {
   "cell_type": "code",
   "execution_count": null,
   "metadata": {},
   "outputs": [],
   "source": [
    "# test CarRacing\n",
    "from Environments.CarRacing.game import CarRacing\n",
    "from Environments.CarRacing.model import MuZero as MuZeroCarRacing\n",
    "from Environments.CarRacing.utils import MCTS as MCTSCarRacing\n",
    "\n",
    "args = {\n",
    "    'num_iterations': 20,\n",
    "    'num_train_games': 100,\n",
    "    'num_mcts_runs': 50,\n",
    "    'num_epochs': 4,\n",
    "    'batch_size': 64,\n",
    "    'temperature': 1,\n",
    "    'K': 5,\n",
    "    'pb_c_base': 19625,\n",
    "    'pb_c_init': 2,\n",
    "    'N': 10,\n",
    "    'dirichlet_alpha': 0.3,\n",
    "    'dirichlet_epsilon': 0.05,\n",
    "    'gamma': 0.997,\n",
    "    'value_loss_weight': 0.25,\n",
    "    'max_grad_norm': 5,\n",
    "    'known_bounds': {} #{'min': 0, 'max': 1},\n",
    "}\n",
    "\n",
    "game = CarRacing(render=True)\n",
    "\n",
    "model = MuZeroCarRacing(game, device).to(device)\n",
    "model.load_state_dict(torch.load('Environments/CarRacing/Models/model.pt', map_location=device))\n",
    "model.eval()\n",
    "\n",
    "mcts = MCTSCarRacing(model, game, args)\n",
    "\n",
    "TEMPERATURE = 0\n",
    "\n",
    "observation, reward, is_terminal = game.get_initial_state()\n",
    "\n",
    "with torch.no_grad():\n",
    "    while not is_terminal:\n",
    "        # img = observation.copy().reshape(96*3, 96)\n",
    "        # cv2.imshow(\"observation\", img)\n",
    "        # cv2.waitKey(1)\n",
    "        root = mcts.search(observation, 0)\n",
    "\n",
    "        action_probs = [0] * game.action_size\n",
    "        for child in root.children:\n",
    "            action_probs[child.action_taken] = child.visit_count\n",
    "        action_probs /= np.sum(action_probs)\n",
    "\n",
    "        if TEMPERATURE == 0:\n",
    "            action = np.argmax(action_probs)\n",
    "        elif TEMPERATURE == float('inf'):\n",
    "            action = np.random.choice([r for r in range(game.action_size) if action_probs[r] > 0])\n",
    "        else:\n",
    "            temperature_action_probs = action_probs ** (1 / TEMPERATURE)\n",
    "            temperature_action_probs /= np.sum(temperature_action_probs)\n",
    "            action = np.random.choice(len(temperature_action_probs), p=temperature_action_probs)\n",
    "\n",
    "        observation, reward, is_terminal = game.step(action)\n",
    "\n",
    "game.env.close()\n"
   ]
  },
  {
   "cell_type": "code",
   "execution_count": null,
   "metadata": {},
   "outputs": [],
   "source": [
    "# test TicTacToe\n",
    "from Environments.TicTacToe.config import MuZeroConfigTicTacToe as Config\n",
    "\n",
    "config = Config(\n",
    "    cheatModel=False,\n",
    "    cheatAvailableActions=False,\n",
    "    cheatTerminalState=False,\n",
    "    num_mcts_runs=60,\n",
    "    c_init=1,\n",
    "    dirichlet_epsilon=0.05,\n",
    ")\n",
    "\n",
    "config.model.load_state_dict(torch.load(f'Environments/{config.game}/Models/{config.model}_17.pt', map_location=device))\n",
    "config.model.eval()\n",
    "\n",
    "player = KaggleAgent(config.model, config.game, args={\n",
    "    'search': True,\n",
    "    'temperature': 0,\n",
    "    'device': device,\n",
    "    'config': config\n",
    "})\n",
    "\n",
    "evaluateKaggle(\"tictactoe\", [\"reaction\", player.run], num_iterations=100)\n",
    "evaluateKaggle(\"tictactoe\", [player.run, \"reaction\"], num_iterations=100)"
   ]
  }
 ],
 "metadata": {
  "kernelspec": {
   "display_name": "Python 3.8.12 ('myenv')",
   "language": "python",
   "name": "python3"
  },
  "language_info": {
   "codemirror_mode": {
    "name": "ipython",
    "version": 3
   },
   "file_extension": ".py",
   "mimetype": "text/x-python",
   "name": "python",
   "nbconvert_exporter": "python",
   "pygments_lexer": "ipython3",
   "version": "3.8.12"
  },
  "orig_nbformat": 4,
  "vscode": {
   "interpreter": {
    "hash": "2177f1ca12c1330a133c1d40b46100b268ab447cddcbdfdc0c7b2b7e4840e700"
   }
  }
 },
 "nbformat": 4,
 "nbformat_minor": 2
}
