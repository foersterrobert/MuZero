{
 "cells": [
  {
   "cell_type": "code",
   "execution_count": 1,
   "metadata": {},
   "outputs": [],
   "source": [
    "import torch\n",
    "from Environments.TicTacToe.model import MuZeroResNet, MuZeroResNetCheat\n",
    "from Environments.TicTacToe.game import TicTacToe\n",
    "from utils import KaggleAgent, GymAgent, evaluateKaggle, evaluateGym\n",
    "\n",
    "device = torch.device(\"cuda\" if torch.cuda.is_available() else \"cpu\")"
   ]
  },
  {
   "cell_type": "code",
   "execution_count": 3,
   "metadata": {},
   "outputs": [
    {
     "name": "stdout",
     "output_type": "stream",
     "text": [
      "\n",
      "Player 1 | Wins: 47 | Draws: 44 | Losses: 9\n",
      "Player 2 | Wins: 9 | Draws: 44 | Losses: 47\n",
      "    \n",
      "\n",
      "Player 1 | Wins: 30 | Draws: 53 | Losses: 17\n",
      "Player 2 | Wins: 17 | Draws: 53 | Losses: 30\n",
      "    \n"
     ]
    }
   ],
   "source": [
    "game = TicTacToe()\n",
    "\n",
    "CHEAT = True\n",
    "\n",
    "if CHEAT:\n",
    "    model = MuZeroResNetCheat({\n",
    "        'predictionFunction': {\n",
    "            'num_resBlocks': 4,\n",
    "            'hidden_planes': 128,\n",
    "            'screen_size': 9,\n",
    "            'action_size': 9,\n",
    "            'value_support_size': 1,\n",
    "            'value_activation': 'tanh'\n",
    "        }\n",
    "    }).to(device)\n",
    "\n",
    "else:\n",
    "    model = MuZeroResNet({\n",
    "        'predictionFunction': {\n",
    "            'num_resBlocks': 3,\n",
    "            'hidden_planes': 64,\n",
    "            'screen_size': 9,\n",
    "            'action_size': 9,\n",
    "            'value_support_size': 1,\n",
    "            'value_activation': 'tanh'\n",
    "        },\n",
    "        'dynamicsFunction': {\n",
    "            'num_resBlocks': 4,\n",
    "            'hidden_planes': 64,\n",
    "            'predict_reward': False, \n",
    "            'reward_support_size': 1\n",
    "        },\n",
    "        'representationFunction': {\n",
    "            'num_resBlocks': 3,\n",
    "            'hidden_planes': 32\n",
    "        },\n",
    "    }).to(device)\n",
    "\n",
    "model.load_state_dict(torch.load(f'Environments/{game}/Models/{model}.pt', map_location=device))\n",
    "model.eval()\n",
    "player = KaggleAgent(model, game, args={\n",
    "    'search': True,\n",
    "    'temperature': 0,\n",
    "    'num_mcts_runs': 100,\n",
    "    'c_init': 1,\n",
    "    'c_base': 19625,\n",
    "    'dirichlet_alpha': 0.3,\n",
    "    'dirichlet_epsilon': 0.05,\n",
    "    'cheatAvailableActions': False,\n",
    "    'cheatTerminalState': False\n",
    "})\n",
    "\n",
    "evaluateKaggle(\"tictactoe\", [\"reaction\", player.run], num_iterations=100)\n",
    "evaluateKaggle(\"tictactoe\", [player.run, \"reaction\"], num_iterations=100)"
   ]
  }
 ],
 "metadata": {
  "kernelspec": {
   "display_name": "Python 3.8.12 ('myenv')",
   "language": "python",
   "name": "python3"
  },
  "language_info": {
   "codemirror_mode": {
    "name": "ipython",
    "version": 3
   },
   "file_extension": ".py",
   "mimetype": "text/x-python",
   "name": "python",
   "nbconvert_exporter": "python",
   "pygments_lexer": "ipython3",
   "version": "3.8.13 (default, Mar 28 2022, 11:38:47) \n[GCC 7.5.0]"
  },
  "orig_nbformat": 4,
  "vscode": {
   "interpreter": {
    "hash": "2177f1ca12c1330a133c1d40b46100b268ab447cddcbdfdc0c7b2b7e4840e700"
   }
  }
 },
 "nbformat": 4,
 "nbformat_minor": 2
}
